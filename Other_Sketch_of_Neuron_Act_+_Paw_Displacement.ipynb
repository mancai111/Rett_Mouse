{
  "cells": [
    {
      "cell_type": "markdown",
      "metadata": {
        "id": "view-in-github",
        "colab_type": "text"
      },
      "source": [
        "<a href=\"https://colab.research.google.com/github/mancai111/Rett_Mouse/blob/main/Other__Sketch_of_Neuron_Act_%2B_Paw_Displacement.ipynb\" target=\"_parent\"><img src=\"https://colab.research.google.com/assets/colab-badge.svg\" alt=\"Open In Colab\"/></a>"
      ]
    },
    {
      "cell_type": "code",
      "execution_count": null,
      "metadata": {
        "colab": {
          "base_uri": "https://localhost:8080/"
        },
        "id": "pFTj3Ygr1b-0",
        "outputId": "ab018099-2555-4900-fe0a-2d30c13658b8"
      },
      "outputs": [
        {
          "output_type": "stream",
          "name": "stdout",
          "text": [
            "Mounted at /content/drive\n"
          ]
        }
      ],
      "source": [
        "from google.colab import drive\n",
        "import sys\n",
        "\n",
        "# Mount Google Drive\n",
        "drive.mount('/content/drive')\n",
        "\n",
        "# Get the absolute path of the current folder\n",
        "abspath_curr = '/content/drive/My Drive/TestCase/heatmap/'\n",
        "\n",
        "curr = '/content/drive/My Drive/TestCase/preprocessed_data/'\n",
        "\n",
        "import warnings\n",
        "\n",
        "# Ignore warnings\n",
        "warnings.filterwarnings('ignore')"
      ],
      "id": "pFTj3Ygr1b-0"
    },
    {
      "cell_type": "code",
      "execution_count": null,
      "metadata": {
        "colab": {
          "base_uri": "https://localhost:8080/"
        },
        "id": "RnLuz5JABGXq",
        "outputId": "e261f61d-6717-4b24-b273-00a504f85042"
      },
      "outputs": [
        {
          "output_type": "stream",
          "name": "stdout",
          "text": [
            "/content/drive/My Drive/TestCase/heatmap\n"
          ]
        }
      ],
      "source": [
        "import os\n",
        "import math\n",
        "import numpy as np\n",
        "import pandas as pd\n",
        "import seaborn as sns\n",
        "from numpy import dot\n",
        "from scipy import stats\n",
        "from numpy.linalg import norm\n",
        "import matplotlib.pyplot as plt\n",
        "from collections import defaultdict\n",
        "\n",
        "os.chdir(abspath_curr)\n",
        "print(os.getcwd())"
      ],
      "id": "RnLuz5JABGXq"
    },
    {
      "cell_type": "code",
      "execution_count": null,
      "metadata": {
        "colab": {
          "base_uri": "https://localhost:8080/"
        },
        "id": "Ld267Qmt7KtE",
        "outputId": "2d2a65c8-1c73-4823-be4b-472521a7fc18"
      },
      "outputs": [
        {
          "output_type": "stream",
          "name": "stdout",
          "text": [
            "/content/drive/My Drive/TestCase/preprocessed_data\n"
          ]
        }
      ],
      "source": [
        "os.chdir(curr)\n",
        "print(os.getcwd())"
      ],
      "id": "Ld267Qmt7KtE"
    },
    {
      "cell_type": "code",
      "execution_count": null,
      "metadata": {
        "id": "ea67130c"
      },
      "outputs": [],
      "source": [
        "# NC436 Wild Mouse\n",
        "# Check speed up 60 and down 60, across 14 days\n",
        "\n",
        "# Setup Parameters\n",
        "\n",
        "speed_list = ['fup0','fup15','fup30','fup45','fup60',\n",
        "              'fdown60','fdown45','fdown30','fdown15','fdown0']"
      ],
      "id": "ea67130c"
    },
    {
      "cell_type": "markdown",
      "metadata": {
        "id": "QwWINiyPbnSr"
      },
      "source": [
        "# Neurons and PawMovements"
      ],
      "id": "QwWINiyPbnSr"
    },
    {
      "cell_type": "code",
      "source": [
        "wild_list = ['NC436-M-WT', 'NC443-M-WT']\n",
        "rett_list = ['NC437-M-NL', 'NC440-M-NL']\n",
        "\n",
        "days = ['1','2','3','4','5','6','7','8','9','10']\n",
        "\n",
        "speed_list = ['fup15','fup30','fup45','fup60',\n",
        "        'fdown60','fdown45','fdown30','fdown15']\n",
        "\n",
        "l = wild_list+rett_list"
      ],
      "metadata": {
        "id": "VOM2RSwE3ipe"
      },
      "id": "VOM2RSwE3ipe",
      "execution_count": null,
      "outputs": []
    },
    {
      "cell_type": "code",
      "execution_count": null,
      "metadata": {
        "id": "le6_XKlLejzx"
      },
      "outputs": [],
      "source": [
        "# Choose 3 mice from wild and 3 mice from rett\n",
        "# use 50 neurons\n",
        "# for wild and rett, by different speeds, use each frame's neuron activities to predict the velocity of left paw and right paw \n",
        "\n",
        "\n",
        "# frame1: neuron readings 1           ;         LX1, LY1, RX1, RY1\n",
        "# frame2: neuron readings 2           ;         LX2, LY2, RX2, RY2\n",
        "# frame3: neuron readings 3           ;         LX3, LY3, RX3, RY3\n",
        "# frame4: neuron readings 4           ;         LX4, LY4, RX4, RY4\n",
        "\n",
        "# frame1 velocity: 0\n",
        "# frame2 velocity = frame 3 LX/LY/RX/RY - frame 1 LX/LY/RX/RY -> neurons to this velocity\n",
        "# frame3 velocity = frame 4 LX/LY/RX/RY - frame 2 LX/LY/RX/RY -> neurons to this velocity\n",
        "\n",
        "\n",
        "days = ['1','2','3','4','5','6','7','8','9','10']\n",
        "\n",
        "speed_list = ['fup15','fup30','fup45','fup60',\n",
        "        'fdown60','fdown45','fdown30','fdown15']\n",
        "\n",
        "l = wild_list+rett_list\n",
        "\n",
        "\n",
        "for mouse in l:\n",
        "\n",
        "  whole = pd.DataFrame()\n",
        "\n",
        "  for i in days:\n",
        "\n",
        "    basename = '{mouse}-Day{day}_aligned.xlsx'.format(mouse = mouse, day=i) ###Error???\n",
        "    PN_WB = pd.ExcelFile(curr+mouse+' alignedNeuronPaw/'+basename)\n",
        "\n",
        "    p = pd.DataFrame()\n",
        "\n",
        "    for speed in speed_list:\n",
        "    \n",
        "      sample_paw = pd.read_excel(PN_WB, speed+' pawMovement').iloc[:,1:5]\n",
        "      sample_neuron = pd.read_excel(PN_WB, speed+' neuronActivity').iloc[:,1:51]\n",
        "      sample = pd.concat([sample_neuron, sample_paw], axis=1)\n",
        "      sample['speed'] = speed\n",
        "\n",
        "      p = pd.concat([p, sample])\n",
        "  \n",
        "    p['day'] = int(i)\n",
        "    whole = pd.concat([whole, p])\n",
        "\n",
        "  file_name = '1_'+mouse+'.csv'\n",
        "  whole.to_csv(file_name)\n",
        "\n",
        "    "
      ],
      "id": "le6_XKlLejzx"
    },
    {
      "cell_type": "code",
      "source": [
        "# Get numbers of neurons for these mice\n",
        "\n",
        "days = ['1','2','3','4','5','6','7','8','9','10']\n",
        "\n",
        "speed_list = ['fup15','fup30','fup45','fup60',\n",
        "        'fdown60','fdown45','fdown30','fdown15']\n",
        "\n",
        "l = wild_list+rett_list\n",
        "\n",
        "mouse = 'NC436-M-WT'\n",
        "\n",
        "\n",
        "for i in days:\n",
        "\n",
        "  basename = '{mouse}-Day{day}_aligned.xlsx'.format(mouse = mouse, day=i)\n",
        "  PN_WB = pd.ExcelFile(curr+mouse+' alignedNeuronPaw/'+basename)\n",
        "\n",
        "  for speed in speed_list:\n",
        "    \n",
        "    sample_neuron = pd.read_excel(PN_WB, speed+' neuronActivity').iloc[:,1:]\n",
        "    print(len(sample_neuron.columns))\n",
        "    break"
      ],
      "metadata": {
        "colab": {
          "base_uri": "https://localhost:8080/"
        },
        "id": "SWgMXwSMjIud",
        "outputId": "e100b239-6f38-4d96-8319-169ded71ee1a"
      },
      "id": "SWgMXwSMjIud",
      "execution_count": null,
      "outputs": [
        {
          "output_type": "stream",
          "name": "stdout",
          "text": [
            "157\n",
            "245\n",
            "269\n",
            "251\n",
            "233\n",
            "258\n",
            "294\n",
            "308\n",
            "307\n",
            "303\n"
          ]
        }
      ]
    },
    {
      "cell_type": "code",
      "source": [
        "days = ['1','2','3','4','5','6','7','8','9','10']\n",
        "\n",
        "speed_list = ['fup15','fup30','fup45','fup60',\n",
        "        'fdown60','fdown45','fdown30','fdown15']\n",
        "\n",
        "l = wild_list+rett_list\n",
        "\n",
        "mouse = 'NC786-M-WT'\n",
        "\n",
        "\n",
        "for i in days:\n",
        "\n",
        "  basename = '{mouse}-Day{day}_aligned.xlsx'.format(mouse = mouse, day=i)\n",
        "  PN_WB = pd.ExcelFile(curr+mouse+' alignedNeuronPaw/'+basename)\n",
        "\n",
        "  for speed in speed_list:\n",
        "    \n",
        "    sample_neuron = pd.read_excel(PN_WB, speed+' neuronActivity').iloc[:,1:]\n",
        "    print(len(sample_neuron.columns))\n",
        "    break"
      ],
      "metadata": {
        "colab": {
          "base_uri": "https://localhost:8080/"
        },
        "id": "vC7QOtD620rK",
        "outputId": "0c526b9c-a57b-4e25-9e05-3c59f5e7e0e9"
      },
      "id": "vC7QOtD620rK",
      "execution_count": null,
      "outputs": [
        {
          "output_type": "stream",
          "name": "stdout",
          "text": [
            "35\n",
            "6\n",
            "4\n",
            "17\n",
            "20\n",
            "18\n",
            "23\n",
            "23\n",
            "32\n",
            "15\n"
          ]
        }
      ]
    },
    {
      "cell_type": "code",
      "source": [
        "days = ['1','2','3','4','5','6','7','8','9','10']\n",
        "\n",
        "speed_list = ['fup15','fup30','fup45','fup60',\n",
        "        'fdown60','fdown45','fdown30','fdown15']\n",
        "\n",
        "l = wild_list+rett_list\n",
        "\n",
        "mouse = 'NC437-M-NL'\n",
        "\n",
        "\n",
        "for i in days:\n",
        "\n",
        "  basename = '{mouse}-Day{day}_aligned.xlsx'.format(mouse = mouse, day=i)\n",
        "  PN_WB = pd.ExcelFile(curr+mouse+' alignedNeuronPaw/'+basename)\n",
        "\n",
        "  for speed in speed_list:\n",
        "    \n",
        "    sample_neuron = pd.read_excel(PN_WB, speed+' neuronActivity').iloc[:,1:]\n",
        "    print(len(sample_neuron.columns))\n",
        "    break"
      ],
      "metadata": {
        "colab": {
          "base_uri": "https://localhost:8080/"
        },
        "id": "RWTuFqVj3szJ",
        "outputId": "72d826d0-81b6-4225-8d96-9dad53b4a6c1"
      },
      "id": "RWTuFqVj3szJ",
      "execution_count": null,
      "outputs": [
        {
          "output_type": "stream",
          "name": "stdout",
          "text": [
            "218\n",
            "305\n",
            "226\n",
            "246\n",
            "216\n",
            "255\n",
            "297\n",
            "311\n",
            "237\n",
            "312\n"
          ]
        }
      ]
    },
    {
      "cell_type": "code",
      "source": [
        "days = ['1','2','3','4','5','6','7','8','9','10']\n",
        "\n",
        "speed_list = ['fup15','fup30','fup45','fup60',\n",
        "        'fdown60','fdown45','fdown30','fdown15']\n",
        "\n",
        "l = wild_list+rett_list\n",
        "\n",
        "mouse = 'NC773-M-NL'\n",
        "\n",
        "\n",
        "for i in days:\n",
        "\n",
        "  basename = '{mouse}-Day{day}_aligned.xlsx'.format(mouse = mouse, day=i)\n",
        "  PN_WB = pd.ExcelFile(curr+mouse+' alignedNeuronPaw/'+basename)\n",
        "\n",
        "  for speed in speed_list:\n",
        "    \n",
        "    sample_neuron = pd.read_excel(PN_WB, speed+' neuronActivity').iloc[:,1:]\n",
        "    print(len(sample_neuron.columns))\n",
        "    break"
      ],
      "metadata": {
        "colab": {
          "base_uri": "https://localhost:8080/"
        },
        "id": "d3_gZI4c30L0",
        "outputId": "5922fb69-eb15-4d54-e905-d91571f9038b"
      },
      "id": "d3_gZI4c30L0",
      "execution_count": null,
      "outputs": [
        {
          "output_type": "stream",
          "name": "stdout",
          "text": [
            "140\n",
            "246\n",
            "246\n",
            "292\n",
            "285\n",
            "237\n",
            "246\n",
            "163\n",
            "222\n",
            "201\n"
          ]
        }
      ]
    },
    {
      "cell_type": "code",
      "source": [
        "neurons_436 = [157, 245, 269, 251, 233, 258, 294, 308, 307, 303]\n",
        "neurons_786 = [35, 6, 4, 17, 20, 18, 23, 23, 32, 15]\n",
        "neurons_437 = [218, 305, 226, 246, 216, 255, 297, 311, 237, 312]\n",
        "neurons_773 = [140, 246, 246, 292, 285, 237, 246, 163, 222, 201]\n",
        "\n",
        "df=pd.DataFrame({'436':neurons_436, '786':neurons_786, '437':neurons_437, '773':neurons_773})\n",
        "days = ['1','2','3','4','5','6','7','8','9','10']\n",
        "\n",
        "\n",
        "\n",
        "fig = plt.figure(figsize =(6,6))\n",
        "plt.bar(days,df['436'])\n",
        "plt.title('Number of Neurons for NC437(Wild) in 14-day Observations')\n",
        "plt.ylim(0,350)\n",
        "plt.show()\n",
        "\n",
        "fig = plt.figure(figsize =(6,6))\n",
        "plt.bar(days,df['786'])\n",
        "plt.title('Number of Neurons for NC786(Wild) in 14-day Observations')\n",
        "plt.ylim(0,350)\n",
        "plt.show()\n",
        "\n",
        "fig = plt.figure(figsize =(6,6))\n",
        "plt.bar(days,df['437'], color='orange')\n",
        "plt.title('Number of Neurons for NC437(Rett) in 14-day Observations')\n",
        "plt.ylim(0,350)\n",
        "plt.show()\n",
        "\n",
        "fig = plt.figure(figsize =(6,6))\n",
        "plt.bar(days,df['773'], color='orange')\n",
        "plt.title('Number of Neurons for NC773(Rett) in 14-day Observations')\n",
        "plt.ylim(0,350)\n",
        "plt.show()"
      ],
      "metadata": {
        "colab": {
          "base_uri": "https://localhost:8080/",
          "height": 1000
        },
        "id": "foxvjg5o4xRU",
        "outputId": "1a5d94bb-bb63-47c6-f060-cec28e739584"
      },
      "id": "foxvjg5o4xRU",
      "execution_count": null,
      "outputs": [
        {
          "output_type": "display_data",
          "data": {
            "text/plain": [
              "<Figure size 600x600 with 1 Axes>"
            ],
            "image/png": "[encoded data removed]"
          },
          "metadata": {}
        },
        {
          "output_type": "display_data",
          "data": {
            "text/plain": [
              "<Figure size 600x600 with 1 Axes>"
            ],
            "image/png": "[encoded data removed]"
          },
          "metadata": {}
        },
        {
          "output_type": "display_data",
          "data": {
            "text/plain": [
              "<Figure size 600x600 with 1 Axes>"
            ],
            "image/png": "[encoded data removed]"
          },
          "metadata": {}
        },
        {
          "output_type": "display_data",
          "data": {
            "text/plain": [
              "<Figure size 600x600 with 1 Axes>"
            ],
            "image/png": "[encoded data removed]"
          },
          "metadata": {}
        }
      ]
    },
    {
      "cell_type": "code",
      "source": [
        "# got the each mouse's dfs which contain neuron activities and corresponding paw velocities in all experimental days, dfs distinguished by 15, 30, 45, 60 up down\n",
        "\n",
        "for mouse in l:\n",
        "  filename = '1_'+mouse+'.csv'\n",
        "\n",
        "  m = pd.read_csv(filename).drop('Unnamed: 0',axis=1)\n",
        "\n",
        "\n",
        "  for speed in speed_list:\n",
        "\n",
        "    dataframe_with_velocity_at_speed = pd.DataFrame()\n",
        "\n",
        "    for i in range(1,11):\n",
        "\n",
        "      temp = m[ (m['day'] == i) & (m['speed'] == speed)]\n",
        "\n",
        "      temp = temp.reset_index(drop=True)\n",
        "  \n",
        "\n",
        "      for ii in ['Lx', 'Rx', 'Ly', 'Ry']:\n",
        "        difference = temp[ii].diff(periods=2)\n",
        "        difference = difference.reset_index(drop=True)\n",
        "        difference = difference.fillna(0)\n",
        "    \n",
        "        difference = difference.drop(0)\n",
        "        difference = difference.reset_index(drop=True)\n",
        "        difference.loc[len(difference)] = 0\n",
        "\n",
        "        temp[ii+'_velocity'] = difference\n",
        "\n",
        "      temp = temp[1:-1].reset_index(drop=True)\n",
        "\n",
        "      dataframe_with_velocity_at_speed = pd.concat([dataframe_with_velocity_at_speed, temp])\n",
        "\n",
        "    dataframe_with_velocity_at_speed.to_csv('1_'+mouse+'_'+speed+'.csv', index=False)"
      ],
      "metadata": {
        "id": "hWDKWLaTXIVS"
      },
      "id": "hWDKWLaTXIVS",
      "execution_count": null,
      "outputs": []
    },
    {
      "cell_type": "markdown",
      "source": [
        "# wild and rett as whole"
      ],
      "metadata": {
        "id": "kwT2weWoRyAf"
      },
      "id": "kwT2weWoRyAf"
    },
    {
      "cell_type": "code",
      "source": [
        "#combine all wild mice data, and all rett mice data by speeds\n",
        "\n",
        "#up15\n",
        "\n",
        "#up30\n",
        "\n",
        "#up45\n",
        "\n",
        "#up60\n",
        "\n",
        "#down15\n",
        "\n",
        "#down30\n",
        "\n",
        "#down45\n",
        "\n",
        "#down60\n",
        "wild_list = ['NC436-M-WT', 'NC443-M-WT']\n",
        "rett_list = ['NC437-M-NL', 'NC440-M-NL']\n",
        "\n",
        "def merge_data(wild_or_rett,speed):\n",
        "  merge_df = pd.DataFrame()\n",
        "\n",
        "  for i in wild_or_rett:\n",
        "    filename = '1_'+i+'_'+speed+'.csv'\n",
        "    d = pd.read_csv(filename)\n",
        "    merge_df = pd.concat([merge_df, d])\n",
        "  merge_df = merge_df.reset_index(drop=True)\n",
        "  return merge_df\n"
      ],
      "metadata": {
        "id": "ObheoaILu4Gb"
      },
      "id": "ObheoaILu4Gb",
      "execution_count": null,
      "outputs": []
    },
    {
      "cell_type": "code",
      "source": [
        "#up15\n",
        "\n",
        "# Index(['0', '1', '2', '3', '4', '5', '6', '7', '8', '9', '10', '11', '12',\n",
        "#        '13', '14', '15', '16', '17', '18', '19', '20', '21', '22', '23', '24',\n",
        "#        '25', '26', '27', '28', '29', '30', '31', '32', '33', '34', '35', '36',\n",
        "#        '37', '38', '39', '40', '41', '42', '43', '44', '45', '46', '47', '48',\n",
        "#        '49', 'Lx', 'Ly', 'Rx', 'Ry', 'speed', 'day', 'Lx_velocity',\n",
        "#        'Rx_velocity', 'Ly_velocity', 'Ry_velocity'],\n",
        "#       dtype='object')\n",
        "\n",
        "neuron_features = ['0', '1', '2', '3', '4', '5', '6', '7', '8', '9', '10', '11', '12',\n",
        "       '13', '14', '15', '16', '17', '18', '19', '20', '21', '22', '23', '24',\n",
        "       '25', '26', '27', '28', '29', '30', '31', '32', '33', '34', '35', '36',\n",
        "       '37', '38', '39', '40', '41', '42', '43', '44', '45', '46', '47', '48',\n",
        "       '49']"
      ],
      "metadata": {
        "id": "YMePKN_Qc3Py"
      },
      "id": "YMePKN_Qc3Py",
      "execution_count": null,
      "outputs": []
    },
    {
      "cell_type": "code",
      "source": [
        "#No selection feature\n",
        "\n",
        "from sklearn.model_selection import train_test_split\n",
        "from sklearn.linear_model import LinearRegression\n",
        "from sklearn.feature_selection import SelectKBest, f_regression\n",
        "\n",
        "def lin_with_and_without_feature_selection(X, y):\n",
        "\n",
        "  X_train, X_test, y_train, y_test = train_test_split(X, y, test_size=0.3, random_state=42)\n",
        "  reg = LinearRegression().fit(X_train, y_train)\n",
        "  score_no_selection = reg.score(X_test, y_test)\n",
        "\n",
        "  select = SelectKBest(score_func=f_regression, k=10).fit(X,y)\n",
        "  z = select.fit(X,y)\n",
        "  filter = z.get_support()\n",
        "  features = X.columns\n",
        "  print(features[filter])\n",
        "\n",
        "  # X_train, X_test, y_train, y_test = train_test_split(X[features[filter]], y, test_size=0.3, random_state=42)\n",
        "  # reg = LinearRegression().fit(X_train, y_train)\n",
        "  # score_with_selection = reg.score(X_test, y_test)\n",
        "\n",
        "  return score_no_selection"
      ],
      "metadata": {
        "id": "mk5_zU44I4im"
      },
      "id": "mk5_zU44I4im",
      "execution_count": null,
      "outputs": []
    },
    {
      "cell_type": "code",
      "source": [
        "wild_up15 = merge_data(wild_list, 'fup15')\n",
        "rett_up15 = merge_data(rett_list, 'fup15')"
      ],
      "metadata": {
        "id": "IjsdwKuUSpOJ"
      },
      "id": "IjsdwKuUSpOJ",
      "execution_count": null,
      "outputs": []
    },
    {
      "cell_type": "code",
      "source": [
        "wild_up30 = merge_data(wild_list, 'fup30')\n",
        "rett_up30 = merge_data(rett_list, 'fup30')"
      ],
      "metadata": {
        "id": "2cIrbiR62X16"
      },
      "id": "2cIrbiR62X16",
      "execution_count": null,
      "outputs": []
    },
    {
      "cell_type": "code",
      "source": [
        "wild_up45 = merge_data(wild_list, 'fup45')\n",
        "rett_up45 = merge_data(rett_list, 'fup45')"
      ],
      "metadata": {
        "id": "4NX7_Wnm2XzZ"
      },
      "id": "4NX7_Wnm2XzZ",
      "execution_count": null,
      "outputs": []
    },
    {
      "cell_type": "code",
      "source": [
        "wild_up60 = merge_data(wild_list, 'fup60')\n",
        "rett_up60 = merge_data(rett_list, 'fup60')"
      ],
      "metadata": {
        "id": "_551u0cv2Xwx"
      },
      "id": "_551u0cv2Xwx",
      "execution_count": null,
      "outputs": []
    },
    {
      "cell_type": "code",
      "source": [
        "# down...."
      ],
      "metadata": {
        "id": "oauOc3dv2XuV"
      },
      "id": "oauOc3dv2XuV",
      "execution_count": null,
      "outputs": []
    },
    {
      "cell_type": "markdown",
      "source": [
        "## Individual mouse"
      ],
      "metadata": {
        "id": "aYNLn1oWTxlS"
      },
      "id": "aYNLn1oWTxlS"
    },
    {
      "cell_type": "markdown",
      "source": [],
      "metadata": {
        "id": "jI04yMl90uEv"
      },
      "id": "jI04yMl90uEv"
    },
    {
      "cell_type": "code",
      "source": [
        "# NC436 Fup15\n",
        "\n",
        "filename = '1_'+'NC436-M-WT'+'_'+'fup15'+'.csv'\n",
        "d = pd.read_csv(filename)\n",
        "\n",
        "\n",
        "X_data = d[neuron_features]\n",
        "y_data = d['Lx_velocity']\n",
        "lin_with_and_without_feature_selection(X_data, y_data)"
      ],
      "metadata": {
        "colab": {
          "base_uri": "https://localhost:8080/"
        },
        "id": "mrW9k5U_seaP",
        "outputId": "42ed06af-a4e9-43b8-9fea-90b74f11455f"
      },
      "id": "mrW9k5U_seaP",
      "execution_count": null,
      "outputs": [
        {
          "output_type": "stream",
          "name": "stdout",
          "text": [
            "Index(['3', '6', '7', '10', '12', '19', '21', '39', '40', '42'], dtype='object')\n"
          ]
        },
        {
          "output_type": "execute_result",
          "data": {
            "text/plain": [
              "-0.018362165102244754"
            ]
          },
          "metadata": {},
          "execution_count": 93
        }
      ]
    },
    {
      "cell_type": "code",
      "source": [
        "from sklearn.tree import DecisionTreeRegressor\n",
        "\n",
        "\n",
        "# Fit regression model\n",
        "\n",
        "X_train, X_test, y_train, y_test = train_test_split(X_data, y_data, test_size=0.3, random_state=42)\n",
        "\n",
        "# Fit regression model\n",
        "regr_2 = DecisionTreeRegressor(max_depth=5)\n",
        "regr_2.fit(X_train, y_train)\n",
        "\n",
        "# Predict\n",
        "y_2 = regr_2.predict(X_test)\n",
        "\n",
        "from sklearn import metrics\n",
        "print('Mean Absolute Error:', metrics.mean_absolute_error(y_test, y_2))\n",
        "print('Mean Squared Error:', metrics.mean_squared_error(y_test, y_2))\n",
        "print('Root Mean Squared Error:', np.sqrt(metrics.mean_squared_error(y_test, y_2)))"
      ],
      "metadata": {
        "colab": {
          "base_uri": "https://localhost:8080/"
        },
        "id": "CXCw6EA2v-MP",
        "outputId": "9517b975-812e-472e-e330-b822f46e4bb0"
      },
      "id": "CXCw6EA2v-MP",
      "execution_count": null,
      "outputs": [
        {
          "output_type": "stream",
          "name": "stdout",
          "text": [
            "Mean Absolute Error: 16.97077948509958\n",
            "Mean Squared Error: 573.9728092656146\n",
            "Root Mean Squared Error: 23.957729635038763\n"
          ]
        }
      ]
    },
    {
      "cell_type": "code",
      "source": [
        "filename = '1_'+'NC436-M-WT'+'_'+'fup30'+'.csv'\n",
        "d = pd.read_csv(filename)\n",
        "\n",
        "\n",
        "X_data = d[neuron_features]\n",
        "y_data = d['Lx_velocity']\n",
        "lin_with_and_without_feature_selection(X_data, y_data)"
      ],
      "metadata": {
        "colab": {
          "base_uri": "https://localhost:8080/"
        },
        "id": "9F-vrI6K05C-",
        "outputId": "b4933fcc-4f22-4f5c-eb48-cbac88073022"
      },
      "id": "9F-vrI6K05C-",
      "execution_count": null,
      "outputs": [
        {
          "output_type": "stream",
          "name": "stdout",
          "text": [
            "Index(['10', '12', '14', '15', '18', '26', '29', '32', '36', '47'], dtype='object')\n"
          ]
        },
        {
          "output_type": "execute_result",
          "data": {
            "text/plain": [
              "-0.01720130374137674"
            ]
          },
          "metadata": {},
          "execution_count": 95
        }
      ]
    },
    {
      "cell_type": "code",
      "source": [
        "from sklearn.tree import DecisionTreeRegressor\n",
        "\n",
        "\n",
        "# Fit regression model\n",
        "\n",
        "X_train, X_test, y_train, y_test = train_test_split(X_data, y_data, test_size=0.3, random_state=42)\n",
        "\n",
        "# Fit regression model\n",
        "regr_2 = DecisionTreeRegressor(max_depth=5)\n",
        "regr_2.fit(X_train, y_train)\n",
        "\n",
        "# Predict\n",
        "y_2 = regr_2.predict(X_test)\n",
        "\n",
        "from sklearn import metrics\n",
        "print('Mean Absolute Error:', metrics.mean_absolute_error(y_test, y_2))\n",
        "print('Mean Squared Error:', metrics.mean_squared_error(y_test, y_2))\n",
        "print('Root Mean Squared Error:', np.sqrt(metrics.mean_squared_error(y_test, y_2)))"
      ],
      "metadata": {
        "colab": {
          "base_uri": "https://localhost:8080/"
        },
        "id": "wLhTy3qQ07sK",
        "outputId": "34d3ffd8-59cf-4fa2-f6e2-12aba33922b7"
      },
      "id": "wLhTy3qQ07sK",
      "execution_count": null,
      "outputs": [
        {
          "output_type": "stream",
          "name": "stdout",
          "text": [
            "Mean Absolute Error: 18.57990542772689\n",
            "Mean Squared Error: 622.9798524755086\n",
            "Root Mean Squared Error: 24.959564348672206\n"
          ]
        }
      ]
    },
    {
      "cell_type": "code",
      "source": [
        "filename = '1_'+'NC436-M-WT'+'_'+'fup45'+'.csv'\n",
        "d = pd.read_csv(filename)\n",
        "\n",
        "\n",
        "X_data = d[neuron_features]\n",
        "y_data = d['Lx_velocity']\n",
        "lin_with_and_without_feature_selection(X_data, y_data)"
      ],
      "metadata": {
        "colab": {
          "base_uri": "https://localhost:8080/"
        },
        "id": "qnsVBnP31COb",
        "outputId": "bd054ad1-0c4f-4028-ec6e-de0b102d050f"
      },
      "id": "qnsVBnP31COb",
      "execution_count": null,
      "outputs": [
        {
          "output_type": "stream",
          "name": "stdout",
          "text": [
            "Index(['3', '5', '6', '13', '21', '26', '31', '39', '45', '46'], dtype='object')\n"
          ]
        },
        {
          "output_type": "execute_result",
          "data": {
            "text/plain": [
              "-0.01657700651935423"
            ]
          },
          "metadata": {},
          "execution_count": 97
        }
      ]
    },
    {
      "cell_type": "code",
      "source": [
        "from sklearn.tree import DecisionTreeRegressor\n",
        "\n",
        "\n",
        "# Fit regression model\n",
        "\n",
        "X_train, X_test, y_train, y_test = train_test_split(X_data, y_data, test_size=0.3, random_state=42)\n",
        "\n",
        "# Fit regression model\n",
        "regr_2 = DecisionTreeRegressor(max_depth=5)\n",
        "regr_2.fit(X_train, y_train)\n",
        "\n",
        "# Predict\n",
        "y_2 = regr_2.predict(X_test)\n",
        "\n",
        "from sklearn import metrics\n",
        "print('Mean Absolute Error:', metrics.mean_absolute_error(y_test, y_2))\n",
        "print('Mean Squared Error:', metrics.mean_squared_error(y_test, y_2))\n",
        "print('Root Mean Squared Error:', np.sqrt(metrics.mean_squared_error(y_test, y_2)))"
      ],
      "metadata": {
        "colab": {
          "base_uri": "https://localhost:8080/"
        },
        "id": "roZMqfST1F-P",
        "outputId": "adbce51e-b438-4f30-f870-8640df8978a7"
      },
      "id": "roZMqfST1F-P",
      "execution_count": null,
      "outputs": [
        {
          "output_type": "stream",
          "name": "stdout",
          "text": [
            "Mean Absolute Error: 17.307832458512905\n",
            "Mean Squared Error: 497.76141144571534\n",
            "Root Mean Squared Error: 22.310567259612995\n"
          ]
        }
      ]
    },
    {
      "cell_type": "code",
      "source": [
        "filename = '1_'+'NC436-M-WT'+'_'+'fup60'+'.csv'\n",
        "d = pd.read_csv(filename)\n",
        "\n",
        "\n",
        "X_data = d[neuron_features]\n",
        "y_data = d['Lx_velocity']\n",
        "lin_with_and_without_feature_selection(X_data, y_data)"
      ],
      "metadata": {
        "colab": {
          "base_uri": "https://localhost:8080/"
        },
        "id": "MYfdnU2f1IOe",
        "outputId": "e7d75f73-ecee-4d92-c349-341bdfba3191"
      },
      "id": "MYfdnU2f1IOe",
      "execution_count": null,
      "outputs": [
        {
          "output_type": "stream",
          "name": "stdout",
          "text": [
            "Index(['3', '11', '14', '22', '24', '32', '35', '37', '45', '47'], dtype='object')\n"
          ]
        },
        {
          "output_type": "execute_result",
          "data": {
            "text/plain": [
              "-0.011004616110695142"
            ]
          },
          "metadata": {},
          "execution_count": 129
        }
      ]
    },
    {
      "cell_type": "code",
      "source": [
        "from sklearn.tree import DecisionTreeRegressor\n",
        "\n",
        "\n",
        "# Fit regression model\n",
        "\n",
        "X_train, X_test, y_train, y_test = train_test_split(X_data, y_data, test_size=0.3, random_state=42)\n",
        "\n",
        "# Fit regression model\n",
        "regr_2 = DecisionTreeRegressor(max_depth=5)\n",
        "regr_2.fit(X_train, y_train)\n",
        "\n",
        "# Predict\n",
        "y_2 = regr_2.predict(X_test)\n",
        "\n",
        "from sklearn import metrics\n",
        "print('Mean Absolute Error:', metrics.mean_absolute_error(y_test, y_2))\n",
        "print('Mean Squared Error:', metrics.mean_squared_error(y_test, y_2))\n",
        "print('Root Mean Squared Error:', np.sqrt(metrics.mean_squared_error(y_test, y_2)))"
      ],
      "metadata": {
        "colab": {
          "base_uri": "https://localhost:8080/"
        },
        "id": "pJgH5Hyk1LeH",
        "outputId": "0ff6b554-e484-4953-a4de-421800f63fed"
      },
      "id": "pJgH5Hyk1LeH",
      "execution_count": null,
      "outputs": [
        {
          "output_type": "stream",
          "name": "stdout",
          "text": [
            "Mean Absolute Error: 17.145603528445864\n",
            "Mean Squared Error: 488.2979619646012\n",
            "Root Mean Squared Error: 22.097465057435915\n"
          ]
        }
      ]
    },
    {
      "cell_type": "markdown",
      "source": [
        "NC437 NL"
      ],
      "metadata": {
        "id": "aqyWrIwO0rf1"
      },
      "id": "aqyWrIwO0rf1"
    },
    {
      "cell_type": "code",
      "source": [
        "# NC437 Fup15\n",
        "\n",
        "filename = '1_'+'NC437-M-NL'+'_'+'fup15'+'.csv'\n",
        "d = pd.read_csv(filename)\n",
        "\n",
        "X_data = d[neuron_features]\n",
        "y_data = d['Lx_velocity']\n",
        "lin_with_and_without_feature_selection(X_data, y_data)"
      ],
      "metadata": {
        "colab": {
          "base_uri": "https://localhost:8080/"
        },
        "id": "7OMIcIP2xLHp",
        "outputId": "eeee7f51-f690-4f30-a3af-d2fbc5e45486"
      },
      "id": "7OMIcIP2xLHp",
      "execution_count": null,
      "outputs": [
        {
          "output_type": "stream",
          "name": "stdout",
          "text": [
            "Index(['0', '3', '5', '16', '29', '33', '40', '41', '42', '48'], dtype='object')\n"
          ]
        },
        {
          "output_type": "execute_result",
          "data": {
            "text/plain": [
              "-0.012709374101552928"
            ]
          },
          "metadata": {},
          "execution_count": 103
        }
      ]
    },
    {
      "cell_type": "code",
      "source": [
        "from sklearn.tree import DecisionTreeRegressor\n",
        "\n",
        "# Fit regression model\n",
        "\n",
        "X_train, X_test, y_train, y_test = train_test_split(X_data, y_data, test_size=0.3, random_state=42)\n",
        "\n",
        "# Fit regression model\n",
        "regr_2 = DecisionTreeRegressor(max_depth=5)\n",
        "regr_2.fit(X_train, y_train)\n",
        "\n",
        "# Predict\n",
        "y_2 = regr_2.predict(X_test)\n",
        "\n",
        "from sklearn import metrics\n",
        "print('Mean Absolute Error:', metrics.mean_absolute_error(y_test, y_2))\n",
        "print('Mean Squared Error:', metrics.mean_squared_error(y_test, y_2))\n",
        "print('Root Mean Squared Error:', np.sqrt(metrics.mean_squared_error(y_test, y_2)))\n",
        "\n",
        "#df=pd.DataFrame({'Actual':y_test, 'Predicted':y_2})\n",
        "#df"
      ],
      "metadata": {
        "colab": {
          "base_uri": "https://localhost:8080/"
        },
        "id": "luxm9yGDxhw5",
        "outputId": "52eea398-9d09-48ad-9848-3ba60c1c8c9c"
      },
      "id": "luxm9yGDxhw5",
      "execution_count": null,
      "outputs": [
        {
          "output_type": "stream",
          "name": "stdout",
          "text": [
            "Mean Absolute Error: 10.37517646579547\n",
            "Mean Squared Error: 212.80205940902985\n",
            "Root Mean Squared Error: 14.587736610215783\n"
          ]
        }
      ]
    },
    {
      "cell_type": "code",
      "source": [
        "filename = '1_'+'NC437-M-NL'+'_'+'fup30'+'.csv'\n",
        "d = pd.read_csv(filename)\n",
        "\n",
        "X_data = d[neuron_features]\n",
        "y_data = d['Lx_velocity']\n",
        "lin_with_and_without_feature_selection(X_data, y_data)"
      ],
      "metadata": {
        "colab": {
          "base_uri": "https://localhost:8080/"
        },
        "id": "P_LDVjpOyHS5",
        "outputId": "3659cde9-5ceb-4aba-fd8d-ad7d44ab6a93"
      },
      "id": "P_LDVjpOyHS5",
      "execution_count": null,
      "outputs": [
        {
          "output_type": "stream",
          "name": "stdout",
          "text": [
            "Index(['12', '14', '16', '19', '20', '39', '40', '41', '46', '49'], dtype='object')\n"
          ]
        },
        {
          "output_type": "execute_result",
          "data": {
            "text/plain": [
              "-0.013408199100187312"
            ]
          },
          "metadata": {},
          "execution_count": 105
        }
      ]
    },
    {
      "cell_type": "code",
      "source": [
        "from sklearn.tree import DecisionTreeRegressor\n",
        "\n",
        "# Fit regression model\n",
        "\n",
        "X_train, X_test, y_train, y_test = train_test_split(X_data, y_data, test_size=0.3, random_state=42)\n",
        "\n",
        "# Fit regression model\n",
        "regr_2 = DecisionTreeRegressor(max_depth=5)\n",
        "regr_2.fit(X_train, y_train)\n",
        "\n",
        "# Predict\n",
        "y_2 = regr_2.predict(X_test)\n",
        "\n",
        "from sklearn import metrics\n",
        "print('Mean Absolute Error:', metrics.mean_absolute_error(y_test, y_2))\n",
        "print('Mean Squared Error:', metrics.mean_squared_error(y_test, y_2))\n",
        "print('Root Mean Squared Error:', np.sqrt(metrics.mean_squared_error(y_test, y_2)))\n",
        "\n",
        "#df=pd.DataFrame({'Actual':y_test, 'Predicted':y_2})\n",
        "#df"
      ],
      "metadata": {
        "colab": {
          "base_uri": "https://localhost:8080/"
        },
        "id": "U3j5S36bxhnl",
        "outputId": "d686fb7e-a8c7-4f04-887f-a94e7ed0df69"
      },
      "id": "U3j5S36bxhnl",
      "execution_count": null,
      "outputs": [
        {
          "output_type": "stream",
          "name": "stdout",
          "text": [
            "Mean Absolute Error: 12.170075039541755\n",
            "Mean Squared Error: 236.97799866531824\n",
            "Root Mean Squared Error: 15.394089731624868\n"
          ]
        }
      ]
    },
    {
      "cell_type": "code",
      "source": [
        "filename = '1_'+'NC437-M-NL'+'_'+'fup45'+'.csv'\n",
        "d = pd.read_csv(filename)\n",
        "\n",
        "X_data = d[neuron_features]\n",
        "y_data = d['Lx_velocity']\n",
        "lin_with_and_without_feature_selection(X_data, y_data)"
      ],
      "metadata": {
        "colab": {
          "base_uri": "https://localhost:8080/"
        },
        "id": "tEILiyhBxhlK",
        "outputId": "bb1c5b1f-fcb9-43fc-f38b-dc6032194783"
      },
      "id": "tEILiyhBxhlK",
      "execution_count": null,
      "outputs": [
        {
          "output_type": "stream",
          "name": "stdout",
          "text": [
            "Index(['2', '3', '5', '11', '16', '19', '24', '26', '38', '44'], dtype='object')\n"
          ]
        },
        {
          "output_type": "execute_result",
          "data": {
            "text/plain": [
              "-0.015083280183556536"
            ]
          },
          "metadata": {},
          "execution_count": 107
        }
      ]
    },
    {
      "cell_type": "code",
      "source": [
        "from sklearn.tree import DecisionTreeRegressor\n",
        "\n",
        "# Fit regression model\n",
        "\n",
        "X_train, X_test, y_train, y_test = train_test_split(X_data, y_data, test_size=0.3, random_state=42)\n",
        "\n",
        "# Fit regression model\n",
        "regr_2 = DecisionTreeRegressor(max_depth=5)\n",
        "regr_2.fit(X_train, y_train)\n",
        "\n",
        "# Predict\n",
        "y_2 = regr_2.predict(X_test)\n",
        "\n",
        "from sklearn import metrics\n",
        "print('Mean Absolute Error:', metrics.mean_absolute_error(y_test, y_2))\n",
        "print('Mean Squared Error:', metrics.mean_squared_error(y_test, y_2))\n",
        "print('Root Mean Squared Error:', np.sqrt(metrics.mean_squared_error(y_test, y_2)))\n",
        "\n",
        "#df=pd.DataFrame({'Actual':y_test, 'Predicted':y_2})\n",
        "#df"
      ],
      "metadata": {
        "colab": {
          "base_uri": "https://localhost:8080/"
        },
        "id": "T4Oljz9mxhix",
        "outputId": "59f77e1d-9391-4a7c-c70b-c1118cf26b73"
      },
      "id": "T4Oljz9mxhix",
      "execution_count": null,
      "outputs": [
        {
          "output_type": "stream",
          "name": "stdout",
          "text": [
            "Mean Absolute Error: 14.234258137508327\n",
            "Mean Squared Error: 328.5515603860662\n",
            "Root Mean Squared Error: 18.12599129388697\n"
          ]
        }
      ]
    },
    {
      "cell_type": "code",
      "source": [
        "filename = '1_'+'NC437-M-NL'+'_'+'fup60'+'.csv'\n",
        "d = pd.read_csv(filename)\n",
        "\n",
        "X_data = d[neuron_features]\n",
        "y_data = d['Lx_velocity']\n",
        "lin_with_and_without_feature_selection(X_data, y_data)"
      ],
      "metadata": {
        "colab": {
          "base_uri": "https://localhost:8080/"
        },
        "id": "drYQyyqE1mCP",
        "outputId": "d117bda1-1f2b-4870-f1a6-b8502deafab3"
      },
      "id": "drYQyyqE1mCP",
      "execution_count": null,
      "outputs": [
        {
          "output_type": "stream",
          "name": "stdout",
          "text": [
            "Index(['5', '8', '10', '16', '22', '29', '35', '38', '43', '47'], dtype='object')\n"
          ]
        },
        {
          "output_type": "execute_result",
          "data": {
            "text/plain": [
              "-0.016697853944619867"
            ]
          },
          "metadata": {},
          "execution_count": 109
        }
      ]
    },
    {
      "cell_type": "code",
      "source": [
        "from sklearn.tree import DecisionTreeRegressor\n",
        "\n",
        "# Fit regression model\n",
        "\n",
        "X_train, X_test, y_train, y_test = train_test_split(X_data, y_data, test_size=0.3, random_state=42)\n",
        "\n",
        "# Fit regression model\n",
        "regr_2 = DecisionTreeRegressor(max_depth=5)\n",
        "regr_2.fit(X_train, y_train)\n",
        "\n",
        "# Predict\n",
        "y_2 = regr_2.predict(X_test)\n",
        "\n",
        "from sklearn import metrics\n",
        "print('Mean Absolute Error:', metrics.mean_absolute_error(y_test, y_2))\n",
        "print('Mean Squared Error:', metrics.mean_squared_error(y_test, y_2))\n",
        "print('Root Mean Squared Error:', np.sqrt(metrics.mean_squared_error(y_test, y_2)))\n",
        "\n",
        "#df=pd.DataFrame({'Actual':y_test, 'Predicted':y_2})\n",
        "#df"
      ],
      "metadata": {
        "colab": {
          "base_uri": "https://localhost:8080/"
        },
        "id": "JbHPytWl1ntU",
        "outputId": "774cbd01-08c1-4eb0-ead8-479d89d7c558"
      },
      "id": "JbHPytWl1ntU",
      "execution_count": null,
      "outputs": [
        {
          "output_type": "stream",
          "name": "stdout",
          "text": [
            "Mean Absolute Error: 15.749523829130617\n",
            "Mean Squared Error: 410.6396470894757\n",
            "Root Mean Squared Error: 20.26424553467204\n"
          ]
        }
      ]
    },
    {
      "cell_type": "markdown",
      "source": [
        "above is actual right data"
      ],
      "metadata": {
        "id": "BlapY8fPv5t-"
      },
      "id": "BlapY8fPv5t-"
    },
    {
      "cell_type": "code",
      "source": [
        "filename = '1_'+'NC436-M-WT'+'_'+'fup15'+'_test.csv'\n",
        "d = pd.read_csv(filename)\n",
        "\n",
        "\n",
        "X_data = d[neuron_features]\n",
        "y_data = d['Lx_velocity']\n",
        "lin_with_and_without_feature_selection(X_data, y_data)"
      ],
      "metadata": {
        "colab": {
          "base_uri": "https://localhost:8080/"
        },
        "id": "9l_11ZX2SPuC",
        "outputId": "17de59a0-7228-49ed-9b90-92572f3ed59b"
      },
      "id": "9l_11ZX2SPuC",
      "execution_count": null,
      "outputs": [
        {
          "output_type": "stream",
          "name": "stdout",
          "text": [
            "Index(['2', '3', '6', '8', '13', '23', '27', '39', '48', '49'], dtype='object')\n"
          ]
        },
        {
          "output_type": "execute_result",
          "data": {
            "text/plain": [
              "0.013664208856837168"
            ]
          },
          "metadata": {},
          "execution_count": 88
        }
      ]
    },
    {
      "cell_type": "code",
      "source": [
        "filename = '1_'+'NC436-M-WT'+'_'+'fup30'+'_test.csv'\n",
        "d = pd.read_csv(filename)\n",
        "\n",
        "X_data = d[neuron_features]\n",
        "y_data = d['Lx_velocity']\n",
        "lin_with_and_without_feature_selection(X_data, y_data)"
      ],
      "metadata": {
        "colab": {
          "base_uri": "https://localhost:8080/"
        },
        "id": "vtDfwLPcS6-l",
        "outputId": "540813cb-e9fa-4d58-d340-3b09ded98b04"
      },
      "id": "vtDfwLPcS6-l",
      "execution_count": null,
      "outputs": [
        {
          "output_type": "stream",
          "name": "stdout",
          "text": [
            "Index(['5', '7', '8', '12', '22', '25', '26', '27', '33', '45'], dtype='object')\n"
          ]
        },
        {
          "output_type": "execute_result",
          "data": {
            "text/plain": [
              "0.0020908499342047193"
            ]
          },
          "metadata": {},
          "execution_count": 92
        }
      ]
    },
    {
      "cell_type": "markdown",
      "source": [
        "feature selection not important because need more neurons, but neuron activity recording is the obstacle"
      ],
      "metadata": {
        "id": "dr4iwvNsUDDl"
      },
      "id": "dr4iwvNsUDDl"
    },
    {
      "cell_type": "code",
      "source": [
        "get a barplot counting the neurons for the mice"
      ],
      "metadata": {
        "id": "ecdnx5dhVW9n"
      },
      "id": "ecdnx5dhVW9n",
      "execution_count": null,
      "outputs": []
    },
    {
      "cell_type": "code",
      "source": [],
      "metadata": {
        "id": "mI_iROnxdskD"
      },
      "id": "mI_iROnxdskD",
      "execution_count": null,
      "outputs": []
    }
  ],
  "metadata": {
    "colab": {
      "toc_visible": true,
      "provenance": [],
      "include_colab_link": true
    },
    "kernelspec": {
      "display_name": "Python 3 (ipykernel)",
      "language": "python",
      "name": "python3"
    },
    "language_info": {
      "codemirror_mode": {
        "name": "ipython",
        "version": 3
      },
      "file_extension": ".py",
      "mimetype": "text/x-python",
      "name": "python",
      "nbconvert_exporter": "python",
      "pygments_lexer": "ipython3",
      "version": "3.9.13"
    }
  },
  "nbformat": 4,
  "nbformat_minor": 5
}
