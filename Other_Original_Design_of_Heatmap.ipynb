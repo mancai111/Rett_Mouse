{
  "cells": [
    {
      "cell_type": "markdown",
      "metadata": {
        "id": "view-in-github",
        "colab_type": "text"
      },
      "source": [
        "<a href=\"https://colab.research.google.com/github/mancai111/Rett_Mouse/blob/main/Other_Original_Design_of_Heatmap.ipynb\" target=\"_parent\"><img src=\"https://colab.research.google.com/assets/colab-badge.svg\" alt=\"Open In Colab\"/></a>"
      ]
    },
    {
      "cell_type": "code",
      "source": [
        "from google.colab import drive\n",
        "import sys\n",
        "\n",
        "# Mount Google Drive\n",
        "drive.mount('/content/drive')\n",
        "\n",
        "# Get the absolute path of the current folder\n",
        "abspath_curr = '/content/drive/My Drive/TestCase/'\n",
        "\n",
        "import warnings\n",
        "\n",
        "# Ignore warnings\n",
        "warnings.filterwarnings('ignore')"
      ],
      "metadata": {
        "colab": {
          "base_uri": "https://localhost:8080/"
        },
        "id": "pFTj3Ygr1b-0",
        "outputId": "9abe9ef5-7fa4-47ee-bda3-323314f0ebcb"
      },
      "id": "pFTj3Ygr1b-0",
      "execution_count": null,
      "outputs": [
        {
          "output_type": "stream",
          "name": "stdout",
          "text": [
            "Mounted at /content/drive\n"
          ]
        }
      ]
    },
    {
      "cell_type": "code",
      "source": [
        "import os\n",
        "import math\n",
        "import numpy as np\n",
        "import pandas as pd\n",
        "import seaborn as sns\n",
        "from numpy import dot\n",
        "from scipy import stats\n",
        "from numpy.linalg import norm\n",
        "import matplotlib.pyplot as plt\n",
        "\n",
        "os.chdir(abspath_curr)\n",
        "print(os.getcwd())\n",
        "\n",
        "from Functions import *"
      ],
      "metadata": {
        "colab": {
          "base_uri": "https://localhost:8080/"
        },
        "id": "RnLuz5JABGXq",
        "outputId": "faec69e9-0032-4db7-9992-69d36df60f48"
      },
      "id": "RnLuz5JABGXq",
      "execution_count": null,
      "outputs": [
        {
          "output_type": "stream",
          "name": "stdout",
          "text": [
            "/content/drive/My Drive/TestCase\n"
          ]
        }
      ]
    },
    {
      "cell_type": "code",
      "execution_count": null,
      "id": "ea67130c",
      "metadata": {
        "id": "ea67130c"
      },
      "outputs": [],
      "source": [
        "# NC436 Data\n",
        "\n",
        "# speed list\n",
        "#---------------------------------------------------------\n",
        "# set up parameters\n",
        "\n",
        "up_speed_list = 'fup60'\n",
        "down_speed_list = 'fdown60'\n",
        "speed_list = [up_speed_list, down_speed_list]\n",
        "\n",
        "basename = 'NC436-M-WT-Day01_aligned.xlsx'\n",
        "\n",
        "PN_WB = pd.ExcelFile(basename)"
      ]
    },
    {
      "cell_type": "markdown",
      "source": [
        "# Coordinate Heatmap"
      ],
      "metadata": {
        "id": "sznCriwoN9yt"
      },
      "id": "sznCriwoN9yt"
    },
    {
      "cell_type": "code",
      "source": [
        "# method\n",
        "\n",
        "def left_right_paw_heatmap(wb, speed):\n",
        "    # read the paw movement data\n",
        "    sample = pd.read_excel(wb, speed+' pawMovement').iloc[:,1:]\n",
        "    \n",
        "    # get LX, LY, RX, RY, round them to closet digit, and turn them into numpy form\n",
        "    LX = sample.iloc[:,0]\n",
        "    LX = np.rint(LX.to_numpy())\n",
        "    LY = sample.iloc[:,1]\n",
        "    LY = np.rint(LY.to_numpy())\n",
        "    RX = sample.iloc[:,2]\n",
        "    RX = np.rint(RX.to_numpy())\n",
        "    RY = sample.iloc[:,3]\n",
        "    RY = np.rint(RY.to_numpy())\n",
        "    \n",
        "    # organize a list of (x,y) coordinates\n",
        "    coords_list_L = [i for i in zip(LX,LY)]\n",
        "    coords_list_R = [i for i in zip(RX,RY)]\n",
        "    coords_list = coords_list_L + coords_list_R\n",
        "\n",
        "    # count the frequency of each (x,y) coordinate pair\n",
        "    d = defaultdict(int)\n",
        "    for i in coords_list:       \n",
        "        d[i] += 1\n",
        "        \n",
        "    coords = [i for i in map(list, zip(*d.keys()))]\n",
        "    \n",
        "    # build a dataframe that has x-coord as column and y-coord as row\n",
        "    column_list = sorted(set(coords[0]))\n",
        "    index_list = sorted(set(coords[1]))\n",
        "    df = pd.DataFrame(columns = column_list, index = index_list)\n",
        "\n",
        "    # fill the values (frequency count)\n",
        "    key_list, value_list = list(d.keys()), list(d.values())\n",
        "    for i in range(len(d.keys())):\n",
        "        df.loc[key_list[i][1], key_list[i][0]] = value_list[i]\n",
        "    \n",
        "    for i in np.arange(min(column_list),max(column_list)):\n",
        "        if i not in df.columns:\n",
        "            df[i] = np.nan\n",
        "            \n",
        "    for i in np.arange(min(index_list),max(column_list)):\n",
        "        if i not in df.index:\n",
        "            df.loc[i] = np.nan\n",
        "\n",
        "    df = df.sort_index(axis=1)\n",
        "    df = df.sort_index(axis=0)\n",
        "    df = df.fillna(0)\n",
        "\n",
        "    # construct heatmap with the dataframe\n",
        "    fig, ax = plt.subplots(figsize=(15, 10))\n",
        "    plt.title('Frequncy Count of X-Y Coordinate for Paw Movement at ' + speed)\n",
        "    sns.heatmap(df)\n",
        "    plt.ylim(max( max(LY), max(RY) ) - min( min(LY), min(RY) )+1,0)\n",
        "    plt.show()"
      ],
      "metadata": {
        "id": "8QamXhg_WG_K"
      },
      "id": "8QamXhg_WG_K",
      "execution_count": null,
      "outputs": []
    },
    {
      "cell_type": "code",
      "source": [],
      "metadata": {
        "id": "--zmoZkOejwi"
      },
      "id": "--zmoZkOejwi",
      "execution_count": null,
      "outputs": []
    },
    {
      "cell_type": "code",
      "source": [],
      "metadata": {
        "id": "le6_XKlLejzx"
      },
      "id": "le6_XKlLejzx",
      "execution_count": null,
      "outputs": []
    },
    {
      "cell_type": "code",
      "source": [],
      "metadata": {
        "id": "Qq0vRhowej3H"
      },
      "id": "Qq0vRhowej3H",
      "execution_count": null,
      "outputs": []
    },
    {
      "cell_type": "code",
      "source": [],
      "metadata": {
        "id": "BAdwnuU1ej6I"
      },
      "id": "BAdwnuU1ej6I",
      "execution_count": null,
      "outputs": []
    },
    {
      "cell_type": "code",
      "source": [],
      "metadata": {
        "id": "KUjSXfTrej94"
      },
      "id": "KUjSXfTrej94",
      "execution_count": null,
      "outputs": []
    },
    {
      "cell_type": "code",
      "source": [],
      "metadata": {
        "id": "q9DvAjDZekAy"
      },
      "id": "q9DvAjDZekAy",
      "execution_count": null,
      "outputs": []
    },
    {
      "cell_type": "code",
      "source": [],
      "metadata": {
        "id": "JAiIZ_xdekEw"
      },
      "id": "JAiIZ_xdekEw",
      "execution_count": null,
      "outputs": []
    },
    {
      "cell_type": "code",
      "source": [],
      "metadata": {
        "id": "ez5VjhgYOHyz"
      },
      "id": "ez5VjhgYOHyz",
      "execution_count": null,
      "outputs": []
    },
    {
      "cell_type": "code",
      "source": [],
      "metadata": {
        "id": "fi43ZeAmOH1b"
      },
      "id": "fi43ZeAmOH1b",
      "execution_count": null,
      "outputs": []
    },
    {
      "cell_type": "code",
      "source": [],
      "metadata": {
        "id": "jUGER0vHOH35"
      },
      "id": "jUGER0vHOH35",
      "execution_count": null,
      "outputs": []
    },
    {
      "cell_type": "code",
      "source": [],
      "metadata": {
        "id": "Xh7qZ1GwOH6t"
      },
      "id": "Xh7qZ1GwOH6t",
      "execution_count": null,
      "outputs": []
    },
    {
      "cell_type": "code",
      "source": [],
      "metadata": {
        "id": "mCktFe6pOH8m"
      },
      "id": "mCktFe6pOH8m",
      "execution_count": null,
      "outputs": []
    },
    {
      "cell_type": "code",
      "source": [],
      "metadata": {
        "id": "hEWWPdwWOH-v"
      },
      "id": "hEWWPdwWOH-v",
      "execution_count": null,
      "outputs": []
    },
    {
      "cell_type": "code",
      "source": [],
      "metadata": {
        "id": "7zPW1wwbEts2"
      },
      "id": "7zPW1wwbEts2",
      "execution_count": null,
      "outputs": []
    },
    {
      "cell_type": "code",
      "source": [],
      "metadata": {
        "id": "oh_zbRg0Etvz"
      },
      "id": "oh_zbRg0Etvz",
      "execution_count": null,
      "outputs": []
    },
    {
      "cell_type": "code",
      "source": [],
      "metadata": {
        "id": "vqpPU09VEtyd"
      },
      "id": "vqpPU09VEtyd",
      "execution_count": null,
      "outputs": []
    },
    {
      "cell_type": "code",
      "source": [],
      "metadata": {
        "id": "0upgAY-kOIB6"
      },
      "id": "0upgAY-kOIB6",
      "execution_count": null,
      "outputs": []
    },
    {
      "cell_type": "code",
      "source": [],
      "metadata": {
        "id": "j_pPOl4LOIEl"
      },
      "id": "j_pPOl4LOIEl",
      "execution_count": null,
      "outputs": []
    },
    {
      "cell_type": "code",
      "source": [],
      "metadata": {
        "id": "t0uWUkSTOIH_"
      },
      "id": "t0uWUkSTOIH_",
      "execution_count": null,
      "outputs": []
    },
    {
      "cell_type": "code",
      "source": [],
      "metadata": {
        "id": "s7sHsKcoOIKH"
      },
      "id": "s7sHsKcoOIKH",
      "execution_count": null,
      "outputs": []
    },
    {
      "cell_type": "code",
      "source": [],
      "metadata": {
        "id": "wUVtta1SOINV"
      },
      "id": "wUVtta1SOINV",
      "execution_count": null,
      "outputs": []
    },
    {
      "cell_type": "code",
      "source": [],
      "metadata": {
        "id": "bTiJrxvMOIQg"
      },
      "id": "bTiJrxvMOIQg",
      "execution_count": null,
      "outputs": []
    },
    {
      "cell_type": "code",
      "source": [],
      "metadata": {
        "id": "y6wnUGH-OITW"
      },
      "id": "y6wnUGH-OITW",
      "execution_count": null,
      "outputs": []
    },
    {
      "cell_type": "code",
      "source": [],
      "metadata": {
        "id": "DDf3H3DcOIXU"
      },
      "id": "DDf3H3DcOIXU",
      "execution_count": null,
      "outputs": []
    }
  ],
  "metadata": {
    "kernelspec": {
      "display_name": "Python 3 (ipykernel)",
      "language": "python",
      "name": "python3"
    },
    "language_info": {
      "codemirror_mode": {
        "name": "ipython",
        "version": 3
      },
      "file_extension": ".py",
      "mimetype": "text/x-python",
      "name": "python",
      "nbconvert_exporter": "python",
      "pygments_lexer": "ipython3",
      "version": "3.9.13"
    },
    "colab": {
      "provenance": [],
      "include_colab_link": true
    }
  },
  "nbformat": 4,
  "nbformat_minor": 5
}